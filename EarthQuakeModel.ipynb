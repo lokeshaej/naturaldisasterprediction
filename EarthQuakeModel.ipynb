{
 "cells": [
  {
   "cell_type": "code",
   "execution_count": 1,
   "metadata": {},
   "outputs": [],
   "source": [
    "import pandas as pd\n",
    "import numpy as np\n",
    "from sklearn.model_selection import train_test_split\n",
    "from sklearn.preprocessing import LabelEncoder\n",
    "from sklearn.compose import ColumnTransformer\n",
    "from sklearn.preprocessing import OneHotEncoder\n",
    "import matplotlib.pyplot as plt\n",
    "import seaborn as sns\n",
    "from sklearn.linear_model import LinearRegression\n",
    "from sklearn.preprocessing import StandardScaler\n",
    "from sklearn.ensemble import RandomForestRegressor"
   ]
  },
  {
   "cell_type": "code",
   "execution_count": 2,
   "metadata": {},
   "outputs": [
    {
     "data": {
      "text/html": [
       "<div>\n",
       "<style scoped>\n",
       "    .dataframe tbody tr th:only-of-type {\n",
       "        vertical-align: middle;\n",
       "    }\n",
       "\n",
       "    .dataframe tbody tr th {\n",
       "        vertical-align: top;\n",
       "    }\n",
       "\n",
       "    .dataframe thead th {\n",
       "        text-align: right;\n",
       "    }\n",
       "</style>\n",
       "<table border=\"1\" class=\"dataframe\">\n",
       "  <thead>\n",
       "    <tr style=\"text-align: right;\">\n",
       "      <th></th>\n",
       "      <th>Official Website of National Center of Seismology</th>\n",
       "      <th>Unnamed: 1</th>\n",
       "      <th>Unnamed: 2</th>\n",
       "      <th>Unnamed: 3</th>\n",
       "      <th>Unnamed: 4</th>\n",
       "      <th>Unnamed: 5</th>\n",
       "    </tr>\n",
       "  </thead>\n",
       "  <tbody>\n",
       "    <tr>\n",
       "      <th>0</th>\n",
       "      <td>Origin Time</td>\n",
       "      <td>Lat</td>\n",
       "      <td>Long</td>\n",
       "      <td>Depth</td>\n",
       "      <td>Magnitude</td>\n",
       "      <td>Location</td>\n",
       "    </tr>\n",
       "    <tr>\n",
       "      <th>1</th>\n",
       "      <td>2019-05-12 00:21:04 IST</td>\n",
       "      <td>28.89</td>\n",
       "      <td>81.58</td>\n",
       "      <td>30</td>\n",
       "      <td>4.3[ML]</td>\n",
       "      <td>153km ESE of Pithoragarh, Uttarakhand, India</td>\n",
       "    </tr>\n",
       "    <tr>\n",
       "      <th>2</th>\n",
       "      <td>2019-05-12 07:42:38 IST</td>\n",
       "      <td>20.7</td>\n",
       "      <td>72.82</td>\n",
       "      <td>5</td>\n",
       "      <td>2.6[ML]</td>\n",
       "      <td>52km S of Surat, Gujarat, India</td>\n",
       "    </tr>\n",
       "    <tr>\n",
       "      <th>3</th>\n",
       "      <td>2019-05-12 23:00:01 IST</td>\n",
       "      <td>29.9</td>\n",
       "      <td>68.3</td>\n",
       "      <td>10</td>\n",
       "      <td>4.4[ML]</td>\n",
       "      <td>524km S of Kabul , Afghanistan</td>\n",
       "    </tr>\n",
       "    <tr>\n",
       "      <th>4</th>\n",
       "      <td>2019-05-15 07:59:35 IST</td>\n",
       "      <td>2.1</td>\n",
       "      <td>96.37</td>\n",
       "      <td>10</td>\n",
       "      <td>4.3[ML]</td>\n",
       "      <td>601km W of Kuala Lumpur, Malaysia</td>\n",
       "    </tr>\n",
       "    <tr>\n",
       "      <th>...</th>\n",
       "      <td>...</td>\n",
       "      <td>...</td>\n",
       "      <td>...</td>\n",
       "      <td>...</td>\n",
       "      <td>...</td>\n",
       "      <td>...</td>\n",
       "    </tr>\n",
       "    <tr>\n",
       "      <th>1217</th>\n",
       "      <td>2020-06-30 18:43:33 IST</td>\n",
       "      <td>38.9</td>\n",
       "      <td>76.21</td>\n",
       "      <td>10</td>\n",
       "      <td>3.9[ML]</td>\n",
       "      <td>462km SSE of Bishkek, Kyrgyzstan</td>\n",
       "    </tr>\n",
       "    <tr>\n",
       "      <th>1218</th>\n",
       "      <td>2020-06-30 21:53:52 IST</td>\n",
       "      <td>37.3</td>\n",
       "      <td>72.4</td>\n",
       "      <td>20</td>\n",
       "      <td>3.4[ML]</td>\n",
       "      <td>165km E of Fayzabad, Afghanistan</td>\n",
       "    </tr>\n",
       "    <tr>\n",
       "      <th>1219</th>\n",
       "      <td>2020-06-30 23:32:26 IST</td>\n",
       "      <td>33.16</td>\n",
       "      <td>76.3</td>\n",
       "      <td>5</td>\n",
       "      <td>4.5[ML]</td>\n",
       "      <td>104km N of Dharamshala, Himachal Pradesh, India</td>\n",
       "    </tr>\n",
       "    <tr>\n",
       "      <th>1220</th>\n",
       "      <td>2020-07-01 02:57:53 IST</td>\n",
       "      <td>25.52</td>\n",
       "      <td>91.56</td>\n",
       "      <td>8</td>\n",
       "      <td>2.9[ML]</td>\n",
       "      <td>32km NNW of Cherrapunjee, Meghalaya, India</td>\n",
       "    </tr>\n",
       "    <tr>\n",
       "      <th>1221</th>\n",
       "      <td>2020-07-01 04:08:21 IST</td>\n",
       "      <td>26.33</td>\n",
       "      <td>92.5</td>\n",
       "      <td>19</td>\n",
       "      <td>2.6[MW]</td>\n",
       "      <td>46km SW of Tezpur, Assam, India</td>\n",
       "    </tr>\n",
       "  </tbody>\n",
       "</table>\n",
       "<p>1222 rows × 6 columns</p>\n",
       "</div>"
      ],
      "text/plain": [
       "     Official Website of National Center of Seismology Unnamed: 1 Unnamed: 2  \\\n",
       "0                                          Origin Time        Lat       Long   \n",
       "1                              2019-05-12 00:21:04 IST      28.89      81.58   \n",
       "2                              2019-05-12 07:42:38 IST       20.7      72.82   \n",
       "3                              2019-05-12 23:00:01 IST       29.9       68.3   \n",
       "4                              2019-05-15 07:59:35 IST        2.1      96.37   \n",
       "...                                                ...        ...        ...   \n",
       "1217                           2020-06-30 18:43:33 IST       38.9      76.21   \n",
       "1218                           2020-06-30 21:53:52 IST       37.3       72.4   \n",
       "1219                           2020-06-30 23:32:26 IST      33.16       76.3   \n",
       "1220                           2020-07-01 02:57:53 IST      25.52      91.56   \n",
       "1221                           2020-07-01 04:08:21 IST      26.33       92.5   \n",
       "\n",
       "     Unnamed: 3 Unnamed: 4                                       Unnamed: 5  \n",
       "0         Depth  Magnitude                                         Location  \n",
       "1            30    4.3[ML]     153km ESE of Pithoragarh, Uttarakhand, India  \n",
       "2             5    2.6[ML]                  52km S of Surat, Gujarat, India  \n",
       "3            10    4.4[ML]                   524km S of Kabul , Afghanistan  \n",
       "4            10    4.3[ML]                601km W of Kuala Lumpur, Malaysia  \n",
       "...         ...        ...                                              ...  \n",
       "1217         10    3.9[ML]                 462km SSE of Bishkek, Kyrgyzstan  \n",
       "1218         20    3.4[ML]                 165km E of Fayzabad, Afghanistan  \n",
       "1219          5    4.5[ML]  104km N of Dharamshala, Himachal Pradesh, India  \n",
       "1220          8    2.9[ML]       32km NNW of Cherrapunjee, Meghalaya, India  \n",
       "1221         19    2.6[MW]                  46km SW of Tezpur, Assam, India  \n",
       "\n",
       "[1222 rows x 6 columns]"
      ]
     },
     "execution_count": 2,
     "metadata": {},
     "output_type": "execute_result"
    }
   ],
   "source": [
    "path=pd.read_excel(r'C:\\Users\\USER\\phase2project2\\Official Website of National Center of Seismology.xlsx')\n",
    "path"
   ]
  },
  {
   "cell_type": "code",
   "execution_count": 3,
   "metadata": {},
   "outputs": [
    {
     "data": {
      "text/plain": [
       "Official Website of National Center of Seismology    object\n",
       "Unnamed: 1                                           object\n",
       "Unnamed: 2                                           object\n",
       "Unnamed: 3                                           object\n",
       "Unnamed: 4                                           object\n",
       "Unnamed: 5                                           object\n",
       "dtype: object"
      ]
     },
     "execution_count": 3,
     "metadata": {},
     "output_type": "execute_result"
    }
   ],
   "source": [
    "path.dtypes"
   ]
  },
  {
   "cell_type": "code",
   "execution_count": 4,
   "metadata": {},
   "outputs": [
    {
     "data": {
      "text/html": [
       "<div>\n",
       "<style scoped>\n",
       "    .dataframe tbody tr th:only-of-type {\n",
       "        vertical-align: middle;\n",
       "    }\n",
       "\n",
       "    .dataframe tbody tr th {\n",
       "        vertical-align: top;\n",
       "    }\n",
       "\n",
       "    .dataframe thead th {\n",
       "        text-align: right;\n",
       "    }\n",
       "</style>\n",
       "<table border=\"1\" class=\"dataframe\">\n",
       "  <thead>\n",
       "    <tr style=\"text-align: right;\">\n",
       "      <th></th>\n",
       "      <th>Unnamed: 1</th>\n",
       "      <th>Unnamed: 2</th>\n",
       "      <th>Unnamed: 3</th>\n",
       "      <th>Unnamed: 4</th>\n",
       "      <th>Unnamed: 5</th>\n",
       "    </tr>\n",
       "  </thead>\n",
       "  <tbody>\n",
       "    <tr>\n",
       "      <th>0</th>\n",
       "      <td>Lat</td>\n",
       "      <td>Long</td>\n",
       "      <td>Depth</td>\n",
       "      <td>Magnitude</td>\n",
       "      <td>Location</td>\n",
       "    </tr>\n",
       "    <tr>\n",
       "      <th>1</th>\n",
       "      <td>28.89</td>\n",
       "      <td>81.58</td>\n",
       "      <td>30</td>\n",
       "      <td>4.3[ML]</td>\n",
       "      <td>153km ESE of Pithoragarh, Uttarakhand, India</td>\n",
       "    </tr>\n",
       "    <tr>\n",
       "      <th>2</th>\n",
       "      <td>20.7</td>\n",
       "      <td>72.82</td>\n",
       "      <td>5</td>\n",
       "      <td>2.6[ML]</td>\n",
       "      <td>52km S of Surat, Gujarat, India</td>\n",
       "    </tr>\n",
       "    <tr>\n",
       "      <th>3</th>\n",
       "      <td>29.9</td>\n",
       "      <td>68.3</td>\n",
       "      <td>10</td>\n",
       "      <td>4.4[ML]</td>\n",
       "      <td>524km S of Kabul , Afghanistan</td>\n",
       "    </tr>\n",
       "    <tr>\n",
       "      <th>4</th>\n",
       "      <td>2.1</td>\n",
       "      <td>96.37</td>\n",
       "      <td>10</td>\n",
       "      <td>4.3[ML]</td>\n",
       "      <td>601km W of Kuala Lumpur, Malaysia</td>\n",
       "    </tr>\n",
       "    <tr>\n",
       "      <th>...</th>\n",
       "      <td>...</td>\n",
       "      <td>...</td>\n",
       "      <td>...</td>\n",
       "      <td>...</td>\n",
       "      <td>...</td>\n",
       "    </tr>\n",
       "    <tr>\n",
       "      <th>1217</th>\n",
       "      <td>38.9</td>\n",
       "      <td>76.21</td>\n",
       "      <td>10</td>\n",
       "      <td>3.9[ML]</td>\n",
       "      <td>462km SSE of Bishkek, Kyrgyzstan</td>\n",
       "    </tr>\n",
       "    <tr>\n",
       "      <th>1218</th>\n",
       "      <td>37.3</td>\n",
       "      <td>72.4</td>\n",
       "      <td>20</td>\n",
       "      <td>3.4[ML]</td>\n",
       "      <td>165km E of Fayzabad, Afghanistan</td>\n",
       "    </tr>\n",
       "    <tr>\n",
       "      <th>1219</th>\n",
       "      <td>33.16</td>\n",
       "      <td>76.3</td>\n",
       "      <td>5</td>\n",
       "      <td>4.5[ML]</td>\n",
       "      <td>104km N of Dharamshala, Himachal Pradesh, India</td>\n",
       "    </tr>\n",
       "    <tr>\n",
       "      <th>1220</th>\n",
       "      <td>25.52</td>\n",
       "      <td>91.56</td>\n",
       "      <td>8</td>\n",
       "      <td>2.9[ML]</td>\n",
       "      <td>32km NNW of Cherrapunjee, Meghalaya, India</td>\n",
       "    </tr>\n",
       "    <tr>\n",
       "      <th>1221</th>\n",
       "      <td>26.33</td>\n",
       "      <td>92.5</td>\n",
       "      <td>19</td>\n",
       "      <td>2.6[MW]</td>\n",
       "      <td>46km SW of Tezpur, Assam, India</td>\n",
       "    </tr>\n",
       "  </tbody>\n",
       "</table>\n",
       "<p>1222 rows × 5 columns</p>\n",
       "</div>"
      ],
      "text/plain": [
       "     Unnamed: 1 Unnamed: 2 Unnamed: 3 Unnamed: 4  \\\n",
       "0           Lat       Long      Depth  Magnitude   \n",
       "1         28.89      81.58         30    4.3[ML]   \n",
       "2          20.7      72.82          5    2.6[ML]   \n",
       "3          29.9       68.3         10    4.4[ML]   \n",
       "4           2.1      96.37         10    4.3[ML]   \n",
       "...         ...        ...        ...        ...   \n",
       "1217       38.9      76.21         10    3.9[ML]   \n",
       "1218       37.3       72.4         20    3.4[ML]   \n",
       "1219      33.16       76.3          5    4.5[ML]   \n",
       "1220      25.52      91.56          8    2.9[ML]   \n",
       "1221      26.33       92.5         19    2.6[MW]   \n",
       "\n",
       "                                           Unnamed: 5  \n",
       "0                                            Location  \n",
       "1        153km ESE of Pithoragarh, Uttarakhand, India  \n",
       "2                     52km S of Surat, Gujarat, India  \n",
       "3                      524km S of Kabul , Afghanistan  \n",
       "4                   601km W of Kuala Lumpur, Malaysia  \n",
       "...                                               ...  \n",
       "1217                 462km SSE of Bishkek, Kyrgyzstan  \n",
       "1218                 165km E of Fayzabad, Afghanistan  \n",
       "1219  104km N of Dharamshala, Himachal Pradesh, India  \n",
       "1220       32km NNW of Cherrapunjee, Meghalaya, India  \n",
       "1221                  46km SW of Tezpur, Assam, India  \n",
       "\n",
       "[1222 rows x 5 columns]"
      ]
     },
     "execution_count": 4,
     "metadata": {},
     "output_type": "execute_result"
    }
   ],
   "source": [
    "path=path.drop(['Official Website of National Center of Seismology'], axis = 1)\n",
    "path"
   ]
  },
  {
   "cell_type": "code",
   "execution_count": 5,
   "metadata": {},
   "outputs": [
    {
     "data": {
      "text/html": [
       "<div>\n",
       "<style scoped>\n",
       "    .dataframe tbody tr th:only-of-type {\n",
       "        vertical-align: middle;\n",
       "    }\n",
       "\n",
       "    .dataframe tbody tr th {\n",
       "        vertical-align: top;\n",
       "    }\n",
       "\n",
       "    .dataframe thead th {\n",
       "        text-align: right;\n",
       "    }\n",
       "</style>\n",
       "<table border=\"1\" class=\"dataframe\">\n",
       "  <thead>\n",
       "    <tr style=\"text-align: right;\">\n",
       "      <th></th>\n",
       "      <th>Unnamed: 1</th>\n",
       "      <th>Unnamed: 2</th>\n",
       "      <th>Unnamed: 3</th>\n",
       "      <th>Unnamed: 4</th>\n",
       "    </tr>\n",
       "  </thead>\n",
       "  <tbody>\n",
       "    <tr>\n",
       "      <th>0</th>\n",
       "      <td>Lat</td>\n",
       "      <td>Long</td>\n",
       "      <td>Depth</td>\n",
       "      <td>Magnitude</td>\n",
       "    </tr>\n",
       "    <tr>\n",
       "      <th>1</th>\n",
       "      <td>28.89</td>\n",
       "      <td>81.58</td>\n",
       "      <td>30</td>\n",
       "      <td>4.3[ML]</td>\n",
       "    </tr>\n",
       "    <tr>\n",
       "      <th>2</th>\n",
       "      <td>20.7</td>\n",
       "      <td>72.82</td>\n",
       "      <td>5</td>\n",
       "      <td>2.6[ML]</td>\n",
       "    </tr>\n",
       "    <tr>\n",
       "      <th>3</th>\n",
       "      <td>29.9</td>\n",
       "      <td>68.3</td>\n",
       "      <td>10</td>\n",
       "      <td>4.4[ML]</td>\n",
       "    </tr>\n",
       "    <tr>\n",
       "      <th>4</th>\n",
       "      <td>2.1</td>\n",
       "      <td>96.37</td>\n",
       "      <td>10</td>\n",
       "      <td>4.3[ML]</td>\n",
       "    </tr>\n",
       "    <tr>\n",
       "      <th>...</th>\n",
       "      <td>...</td>\n",
       "      <td>...</td>\n",
       "      <td>...</td>\n",
       "      <td>...</td>\n",
       "    </tr>\n",
       "    <tr>\n",
       "      <th>1217</th>\n",
       "      <td>38.9</td>\n",
       "      <td>76.21</td>\n",
       "      <td>10</td>\n",
       "      <td>3.9[ML]</td>\n",
       "    </tr>\n",
       "    <tr>\n",
       "      <th>1218</th>\n",
       "      <td>37.3</td>\n",
       "      <td>72.4</td>\n",
       "      <td>20</td>\n",
       "      <td>3.4[ML]</td>\n",
       "    </tr>\n",
       "    <tr>\n",
       "      <th>1219</th>\n",
       "      <td>33.16</td>\n",
       "      <td>76.3</td>\n",
       "      <td>5</td>\n",
       "      <td>4.5[ML]</td>\n",
       "    </tr>\n",
       "    <tr>\n",
       "      <th>1220</th>\n",
       "      <td>25.52</td>\n",
       "      <td>91.56</td>\n",
       "      <td>8</td>\n",
       "      <td>2.9[ML]</td>\n",
       "    </tr>\n",
       "    <tr>\n",
       "      <th>1221</th>\n",
       "      <td>26.33</td>\n",
       "      <td>92.5</td>\n",
       "      <td>19</td>\n",
       "      <td>2.6[MW]</td>\n",
       "    </tr>\n",
       "  </tbody>\n",
       "</table>\n",
       "<p>1222 rows × 4 columns</p>\n",
       "</div>"
      ],
      "text/plain": [
       "     Unnamed: 1 Unnamed: 2 Unnamed: 3 Unnamed: 4\n",
       "0           Lat       Long      Depth  Magnitude\n",
       "1         28.89      81.58         30    4.3[ML]\n",
       "2          20.7      72.82          5    2.6[ML]\n",
       "3          29.9       68.3         10    4.4[ML]\n",
       "4           2.1      96.37         10    4.3[ML]\n",
       "...         ...        ...        ...        ...\n",
       "1217       38.9      76.21         10    3.9[ML]\n",
       "1218       37.3       72.4         20    3.4[ML]\n",
       "1219      33.16       76.3          5    4.5[ML]\n",
       "1220      25.52      91.56          8    2.9[ML]\n",
       "1221      26.33       92.5         19    2.6[MW]\n",
       "\n",
       "[1222 rows x 4 columns]"
      ]
     },
     "execution_count": 5,
     "metadata": {},
     "output_type": "execute_result"
    }
   ],
   "source": [
    "path=path.drop(['Unnamed: 5'], axis = 1)\n",
    "path"
   ]
  },
  {
   "cell_type": "code",
   "execution_count": 6,
   "metadata": {},
   "outputs": [
    {
     "data": {
      "text/html": [
       "<div>\n",
       "<style scoped>\n",
       "    .dataframe tbody tr th:only-of-type {\n",
       "        vertical-align: middle;\n",
       "    }\n",
       "\n",
       "    .dataframe tbody tr th {\n",
       "        vertical-align: top;\n",
       "    }\n",
       "\n",
       "    .dataframe thead th {\n",
       "        text-align: right;\n",
       "    }\n",
       "</style>\n",
       "<table border=\"1\" class=\"dataframe\">\n",
       "  <thead>\n",
       "    <tr style=\"text-align: right;\">\n",
       "      <th></th>\n",
       "      <th>Unnamed: 1</th>\n",
       "      <th>Unnamed: 2</th>\n",
       "      <th>Unnamed: 3</th>\n",
       "      <th>Unnamed: 4</th>\n",
       "    </tr>\n",
       "  </thead>\n",
       "  <tbody>\n",
       "    <tr>\n",
       "      <th>1</th>\n",
       "      <td>28.89</td>\n",
       "      <td>81.58</td>\n",
       "      <td>30</td>\n",
       "      <td>4.3[ML]</td>\n",
       "    </tr>\n",
       "    <tr>\n",
       "      <th>2</th>\n",
       "      <td>20.7</td>\n",
       "      <td>72.82</td>\n",
       "      <td>5</td>\n",
       "      <td>2.6[ML]</td>\n",
       "    </tr>\n",
       "    <tr>\n",
       "      <th>3</th>\n",
       "      <td>29.9</td>\n",
       "      <td>68.3</td>\n",
       "      <td>10</td>\n",
       "      <td>4.4[ML]</td>\n",
       "    </tr>\n",
       "    <tr>\n",
       "      <th>4</th>\n",
       "      <td>2.1</td>\n",
       "      <td>96.37</td>\n",
       "      <td>10</td>\n",
       "      <td>4.3[ML]</td>\n",
       "    </tr>\n",
       "    <tr>\n",
       "      <th>5</th>\n",
       "      <td>7.48</td>\n",
       "      <td>94.33</td>\n",
       "      <td>10</td>\n",
       "      <td>4.8[ML]</td>\n",
       "    </tr>\n",
       "    <tr>\n",
       "      <th>...</th>\n",
       "      <td>...</td>\n",
       "      <td>...</td>\n",
       "      <td>...</td>\n",
       "      <td>...</td>\n",
       "    </tr>\n",
       "    <tr>\n",
       "      <th>1217</th>\n",
       "      <td>38.9</td>\n",
       "      <td>76.21</td>\n",
       "      <td>10</td>\n",
       "      <td>3.9[ML]</td>\n",
       "    </tr>\n",
       "    <tr>\n",
       "      <th>1218</th>\n",
       "      <td>37.3</td>\n",
       "      <td>72.4</td>\n",
       "      <td>20</td>\n",
       "      <td>3.4[ML]</td>\n",
       "    </tr>\n",
       "    <tr>\n",
       "      <th>1219</th>\n",
       "      <td>33.16</td>\n",
       "      <td>76.3</td>\n",
       "      <td>5</td>\n",
       "      <td>4.5[ML]</td>\n",
       "    </tr>\n",
       "    <tr>\n",
       "      <th>1220</th>\n",
       "      <td>25.52</td>\n",
       "      <td>91.56</td>\n",
       "      <td>8</td>\n",
       "      <td>2.9[ML]</td>\n",
       "    </tr>\n",
       "    <tr>\n",
       "      <th>1221</th>\n",
       "      <td>26.33</td>\n",
       "      <td>92.5</td>\n",
       "      <td>19</td>\n",
       "      <td>2.6[MW]</td>\n",
       "    </tr>\n",
       "  </tbody>\n",
       "</table>\n",
       "<p>1221 rows × 4 columns</p>\n",
       "</div>"
      ],
      "text/plain": [
       "     Unnamed: 1 Unnamed: 2 Unnamed: 3 Unnamed: 4\n",
       "1         28.89      81.58         30    4.3[ML]\n",
       "2          20.7      72.82          5    2.6[ML]\n",
       "3          29.9       68.3         10    4.4[ML]\n",
       "4           2.1      96.37         10    4.3[ML]\n",
       "5          7.48      94.33         10    4.8[ML]\n",
       "...         ...        ...        ...        ...\n",
       "1217       38.9      76.21         10    3.9[ML]\n",
       "1218       37.3       72.4         20    3.4[ML]\n",
       "1219      33.16       76.3          5    4.5[ML]\n",
       "1220      25.52      91.56          8    2.9[ML]\n",
       "1221      26.33       92.5         19    2.6[MW]\n",
       "\n",
       "[1221 rows x 4 columns]"
      ]
     },
     "execution_count": 6,
     "metadata": {},
     "output_type": "execute_result"
    }
   ],
   "source": [
    "xyz=path.drop([0], axis = 0,inplace=True)\n",
    "path"
   ]
  },
  {
   "cell_type": "code",
   "execution_count": 7,
   "metadata": {},
   "outputs": [],
   "source": [
    "xyz"
   ]
  },
  {
   "cell_type": "code",
   "execution_count": 8,
   "metadata": {},
   "outputs": [
    {
     "data": {
      "text/html": [
       "<div>\n",
       "<style scoped>\n",
       "    .dataframe tbody tr th:only-of-type {\n",
       "        vertical-align: middle;\n",
       "    }\n",
       "\n",
       "    .dataframe tbody tr th {\n",
       "        vertical-align: top;\n",
       "    }\n",
       "\n",
       "    .dataframe thead th {\n",
       "        text-align: right;\n",
       "    }\n",
       "</style>\n",
       "<table border=\"1\" class=\"dataframe\">\n",
       "  <thead>\n",
       "    <tr style=\"text-align: right;\">\n",
       "      <th></th>\n",
       "      <th>Unnamed: 1</th>\n",
       "      <th>Unnamed: 2</th>\n",
       "      <th>Unnamed: 3</th>\n",
       "      <th>Unnamed: 4</th>\n",
       "    </tr>\n",
       "  </thead>\n",
       "  <tbody>\n",
       "    <tr>\n",
       "      <th>1</th>\n",
       "      <td>28.89</td>\n",
       "      <td>81.58</td>\n",
       "      <td>30</td>\n",
       "      <td>4.3[ML]</td>\n",
       "    </tr>\n",
       "    <tr>\n",
       "      <th>2</th>\n",
       "      <td>20.7</td>\n",
       "      <td>72.82</td>\n",
       "      <td>5</td>\n",
       "      <td>2.6[ML]</td>\n",
       "    </tr>\n",
       "    <tr>\n",
       "      <th>3</th>\n",
       "      <td>29.9</td>\n",
       "      <td>68.3</td>\n",
       "      <td>10</td>\n",
       "      <td>4.4[ML]</td>\n",
       "    </tr>\n",
       "    <tr>\n",
       "      <th>4</th>\n",
       "      <td>2.1</td>\n",
       "      <td>96.37</td>\n",
       "      <td>10</td>\n",
       "      <td>4.3[ML]</td>\n",
       "    </tr>\n",
       "    <tr>\n",
       "      <th>5</th>\n",
       "      <td>7.48</td>\n",
       "      <td>94.33</td>\n",
       "      <td>10</td>\n",
       "      <td>4.8[ML]</td>\n",
       "    </tr>\n",
       "    <tr>\n",
       "      <th>...</th>\n",
       "      <td>...</td>\n",
       "      <td>...</td>\n",
       "      <td>...</td>\n",
       "      <td>...</td>\n",
       "    </tr>\n",
       "    <tr>\n",
       "      <th>1217</th>\n",
       "      <td>38.9</td>\n",
       "      <td>76.21</td>\n",
       "      <td>10</td>\n",
       "      <td>3.9[ML]</td>\n",
       "    </tr>\n",
       "    <tr>\n",
       "      <th>1218</th>\n",
       "      <td>37.3</td>\n",
       "      <td>72.4</td>\n",
       "      <td>20</td>\n",
       "      <td>3.4[ML]</td>\n",
       "    </tr>\n",
       "    <tr>\n",
       "      <th>1219</th>\n",
       "      <td>33.16</td>\n",
       "      <td>76.3</td>\n",
       "      <td>5</td>\n",
       "      <td>4.5[ML]</td>\n",
       "    </tr>\n",
       "    <tr>\n",
       "      <th>1220</th>\n",
       "      <td>25.52</td>\n",
       "      <td>91.56</td>\n",
       "      <td>8</td>\n",
       "      <td>2.9[ML]</td>\n",
       "    </tr>\n",
       "    <tr>\n",
       "      <th>1221</th>\n",
       "      <td>26.33</td>\n",
       "      <td>92.5</td>\n",
       "      <td>19</td>\n",
       "      <td>2.6[MW]</td>\n",
       "    </tr>\n",
       "  </tbody>\n",
       "</table>\n",
       "<p>1221 rows × 4 columns</p>\n",
       "</div>"
      ],
      "text/plain": [
       "     Unnamed: 1 Unnamed: 2 Unnamed: 3 Unnamed: 4\n",
       "1         28.89      81.58         30    4.3[ML]\n",
       "2          20.7      72.82          5    2.6[ML]\n",
       "3          29.9       68.3         10    4.4[ML]\n",
       "4           2.1      96.37         10    4.3[ML]\n",
       "5          7.48      94.33         10    4.8[ML]\n",
       "...         ...        ...        ...        ...\n",
       "1217       38.9      76.21         10    3.9[ML]\n",
       "1218       37.3       72.4         20    3.4[ML]\n",
       "1219      33.16       76.3          5    4.5[ML]\n",
       "1220      25.52      91.56          8    2.9[ML]\n",
       "1221      26.33       92.5         19    2.6[MW]\n",
       "\n",
       "[1221 rows x 4 columns]"
      ]
     },
     "execution_count": 8,
     "metadata": {},
     "output_type": "execute_result"
    }
   ],
   "source": [
    "path"
   ]
  },
  {
   "cell_type": "code",
   "execution_count": 9,
   "metadata": {},
   "outputs": [
    {
     "data": {
      "text/plain": [
       "Unnamed: 1    object\n",
       "Unnamed: 2    object\n",
       "Unnamed: 3    object\n",
       "Unnamed: 4    object\n",
       "dtype: object"
      ]
     },
     "execution_count": 9,
     "metadata": {},
     "output_type": "execute_result"
    }
   ],
   "source": [
    "path.dtypes"
   ]
  },
  {
   "cell_type": "code",
   "execution_count": 10,
   "metadata": {},
   "outputs": [],
   "source": [
    "y=path.iloc[:,-1].values\n"
   ]
  },
  {
   "cell_type": "code",
   "execution_count": 11,
   "metadata": {},
   "outputs": [
    {
     "data": {
      "text/html": [
       "<div>\n",
       "<style scoped>\n",
       "    .dataframe tbody tr th:only-of-type {\n",
       "        vertical-align: middle;\n",
       "    }\n",
       "\n",
       "    .dataframe tbody tr th {\n",
       "        vertical-align: top;\n",
       "    }\n",
       "\n",
       "    .dataframe thead th {\n",
       "        text-align: right;\n",
       "    }\n",
       "</style>\n",
       "<table border=\"1\" class=\"dataframe\">\n",
       "  <thead>\n",
       "    <tr style=\"text-align: right;\">\n",
       "      <th></th>\n",
       "      <th>Unnamed: 1</th>\n",
       "      <th>Unnamed: 2</th>\n",
       "      <th>Unnamed: 3</th>\n",
       "      <th>Unnamed: 4</th>\n",
       "    </tr>\n",
       "  </thead>\n",
       "  <tbody>\n",
       "    <tr>\n",
       "      <th>1</th>\n",
       "      <td>28.89</td>\n",
       "      <td>81.58</td>\n",
       "      <td>30</td>\n",
       "      <td>4.3[ML]</td>\n",
       "    </tr>\n",
       "    <tr>\n",
       "      <th>2</th>\n",
       "      <td>20.7</td>\n",
       "      <td>72.82</td>\n",
       "      <td>5</td>\n",
       "      <td>2.6[ML]</td>\n",
       "    </tr>\n",
       "    <tr>\n",
       "      <th>3</th>\n",
       "      <td>29.9</td>\n",
       "      <td>68.3</td>\n",
       "      <td>10</td>\n",
       "      <td>4.4[ML]</td>\n",
       "    </tr>\n",
       "    <tr>\n",
       "      <th>4</th>\n",
       "      <td>2.1</td>\n",
       "      <td>96.37</td>\n",
       "      <td>10</td>\n",
       "      <td>4.3[ML]</td>\n",
       "    </tr>\n",
       "    <tr>\n",
       "      <th>5</th>\n",
       "      <td>7.48</td>\n",
       "      <td>94.33</td>\n",
       "      <td>10</td>\n",
       "      <td>4.8[ML]</td>\n",
       "    </tr>\n",
       "    <tr>\n",
       "      <th>...</th>\n",
       "      <td>...</td>\n",
       "      <td>...</td>\n",
       "      <td>...</td>\n",
       "      <td>...</td>\n",
       "    </tr>\n",
       "    <tr>\n",
       "      <th>1217</th>\n",
       "      <td>38.9</td>\n",
       "      <td>76.21</td>\n",
       "      <td>10</td>\n",
       "      <td>3.9[ML]</td>\n",
       "    </tr>\n",
       "    <tr>\n",
       "      <th>1218</th>\n",
       "      <td>37.3</td>\n",
       "      <td>72.4</td>\n",
       "      <td>20</td>\n",
       "      <td>3.4[ML]</td>\n",
       "    </tr>\n",
       "    <tr>\n",
       "      <th>1219</th>\n",
       "      <td>33.16</td>\n",
       "      <td>76.3</td>\n",
       "      <td>5</td>\n",
       "      <td>4.5[ML]</td>\n",
       "    </tr>\n",
       "    <tr>\n",
       "      <th>1220</th>\n",
       "      <td>25.52</td>\n",
       "      <td>91.56</td>\n",
       "      <td>8</td>\n",
       "      <td>2.9[ML]</td>\n",
       "    </tr>\n",
       "    <tr>\n",
       "      <th>1221</th>\n",
       "      <td>26.33</td>\n",
       "      <td>92.5</td>\n",
       "      <td>19</td>\n",
       "      <td>2.6[MW]</td>\n",
       "    </tr>\n",
       "  </tbody>\n",
       "</table>\n",
       "<p>1221 rows × 4 columns</p>\n",
       "</div>"
      ],
      "text/plain": [
       "     Unnamed: 1 Unnamed: 2 Unnamed: 3 Unnamed: 4\n",
       "1         28.89      81.58         30    4.3[ML]\n",
       "2          20.7      72.82          5    2.6[ML]\n",
       "3          29.9       68.3         10    4.4[ML]\n",
       "4           2.1      96.37         10    4.3[ML]\n",
       "5          7.48      94.33         10    4.8[ML]\n",
       "...         ...        ...        ...        ...\n",
       "1217       38.9      76.21         10    3.9[ML]\n",
       "1218       37.3       72.4         20    3.4[ML]\n",
       "1219      33.16       76.3          5    4.5[ML]\n",
       "1220      25.52      91.56          8    2.9[ML]\n",
       "1221      26.33       92.5         19    2.6[MW]\n",
       "\n",
       "[1221 rows x 4 columns]"
      ]
     },
     "execution_count": 11,
     "metadata": {},
     "output_type": "execute_result"
    }
   ],
   "source": [
    "\n",
    "path"
   ]
  },
  {
   "cell_type": "code",
   "execution_count": 12,
   "metadata": {},
   "outputs": [
    {
     "data": {
      "text/plain": [
       "dtype('O')"
      ]
     },
     "execution_count": 12,
     "metadata": {},
     "output_type": "execute_result"
    }
   ],
   "source": [
    "y.dtype"
   ]
  },
  {
   "cell_type": "code",
   "execution_count": 13,
   "metadata": {},
   "outputs": [
    {
     "data": {
      "text/html": [
       "<div>\n",
       "<style scoped>\n",
       "    .dataframe tbody tr th:only-of-type {\n",
       "        vertical-align: middle;\n",
       "    }\n",
       "\n",
       "    .dataframe tbody tr th {\n",
       "        vertical-align: top;\n",
       "    }\n",
       "\n",
       "    .dataframe thead th {\n",
       "        text-align: right;\n",
       "    }\n",
       "</style>\n",
       "<table border=\"1\" class=\"dataframe\">\n",
       "  <thead>\n",
       "    <tr style=\"text-align: right;\">\n",
       "      <th></th>\n",
       "      <th>Unnamed: 1</th>\n",
       "      <th>Unnamed: 2</th>\n",
       "      <th>Unnamed: 3</th>\n",
       "    </tr>\n",
       "  </thead>\n",
       "  <tbody>\n",
       "    <tr>\n",
       "      <th>1</th>\n",
       "      <td>28.89</td>\n",
       "      <td>81.58</td>\n",
       "      <td>30</td>\n",
       "    </tr>\n",
       "    <tr>\n",
       "      <th>2</th>\n",
       "      <td>20.7</td>\n",
       "      <td>72.82</td>\n",
       "      <td>5</td>\n",
       "    </tr>\n",
       "    <tr>\n",
       "      <th>3</th>\n",
       "      <td>29.9</td>\n",
       "      <td>68.3</td>\n",
       "      <td>10</td>\n",
       "    </tr>\n",
       "    <tr>\n",
       "      <th>4</th>\n",
       "      <td>2.1</td>\n",
       "      <td>96.37</td>\n",
       "      <td>10</td>\n",
       "    </tr>\n",
       "    <tr>\n",
       "      <th>5</th>\n",
       "      <td>7.48</td>\n",
       "      <td>94.33</td>\n",
       "      <td>10</td>\n",
       "    </tr>\n",
       "    <tr>\n",
       "      <th>...</th>\n",
       "      <td>...</td>\n",
       "      <td>...</td>\n",
       "      <td>...</td>\n",
       "    </tr>\n",
       "    <tr>\n",
       "      <th>1217</th>\n",
       "      <td>38.9</td>\n",
       "      <td>76.21</td>\n",
       "      <td>10</td>\n",
       "    </tr>\n",
       "    <tr>\n",
       "      <th>1218</th>\n",
       "      <td>37.3</td>\n",
       "      <td>72.4</td>\n",
       "      <td>20</td>\n",
       "    </tr>\n",
       "    <tr>\n",
       "      <th>1219</th>\n",
       "      <td>33.16</td>\n",
       "      <td>76.3</td>\n",
       "      <td>5</td>\n",
       "    </tr>\n",
       "    <tr>\n",
       "      <th>1220</th>\n",
       "      <td>25.52</td>\n",
       "      <td>91.56</td>\n",
       "      <td>8</td>\n",
       "    </tr>\n",
       "    <tr>\n",
       "      <th>1221</th>\n",
       "      <td>26.33</td>\n",
       "      <td>92.5</td>\n",
       "      <td>19</td>\n",
       "    </tr>\n",
       "  </tbody>\n",
       "</table>\n",
       "<p>1221 rows × 3 columns</p>\n",
       "</div>"
      ],
      "text/plain": [
       "     Unnamed: 1 Unnamed: 2 Unnamed: 3\n",
       "1         28.89      81.58         30\n",
       "2          20.7      72.82          5\n",
       "3          29.9       68.3         10\n",
       "4           2.1      96.37         10\n",
       "5          7.48      94.33         10\n",
       "...         ...        ...        ...\n",
       "1217       38.9      76.21         10\n",
       "1218       37.3       72.4         20\n",
       "1219      33.16       76.3          5\n",
       "1220      25.52      91.56          8\n",
       "1221      26.33       92.5         19\n",
       "\n",
       "[1221 rows x 3 columns]"
      ]
     },
     "execution_count": 13,
     "metadata": {},
     "output_type": "execute_result"
    }
   ],
   "source": [
    "path=path.drop(['Unnamed: 4'], axis = 1)\n",
    "path"
   ]
  },
  {
   "cell_type": "code",
   "execution_count": 14,
   "metadata": {},
   "outputs": [],
   "source": [
    "colname=path.columns"
   ]
  },
  {
   "cell_type": "code",
   "execution_count": 15,
   "metadata": {},
   "outputs": [
    {
     "data": {
      "text/plain": [
       "Index(['Unnamed: 1', 'Unnamed: 2', 'Unnamed: 3'], dtype='object')"
      ]
     },
     "execution_count": 15,
     "metadata": {},
     "output_type": "execute_result"
    }
   ],
   "source": [
    "colname"
   ]
  },
  {
   "cell_type": "code",
   "execution_count": 16,
   "metadata": {
    "scrolled": true
   },
   "outputs": [
    {
     "data": {
      "text/plain": [
       "Unnamed: 1    float64\n",
       "Unnamed: 2    float64\n",
       "Unnamed: 3    float64\n",
       "dtype: object"
      ]
     },
     "execution_count": 16,
     "metadata": {},
     "output_type": "execute_result"
    }
   ],
   "source": [
    "for col in colname:\n",
    "    path[col]=path[col].astype(float)\n",
    "path.dtypes"
   ]
  },
  {
   "cell_type": "code",
   "execution_count": 17,
   "metadata": {},
   "outputs": [],
   "source": [
    "x=path"
   ]
  },
  {
   "cell_type": "code",
   "execution_count": null,
   "metadata": {},
   "outputs": [],
   "source": []
  },
  {
   "cell_type": "code",
   "execution_count": 18,
   "metadata": {
    "scrolled": true
   },
   "outputs": [
    {
     "data": {
      "text/plain": [
       "array(['4.3[ML]', '2.6[ML]', '4.4[ML]', ..., '4.5[ML]', '2.9[ML]',\n",
       "       '2.6[MW]'], dtype=object)"
      ]
     },
     "execution_count": 18,
     "metadata": {},
     "output_type": "execute_result"
    }
   ],
   "source": [
    "y"
   ]
  },
  {
   "cell_type": "code",
   "execution_count": 19,
   "metadata": {},
   "outputs": [],
   "source": [
    "yn=y[0:1]"
   ]
  },
  {
   "cell_type": "code",
   "execution_count": 20,
   "metadata": {},
   "outputs": [
    {
     "data": {
      "text/plain": [
       "array(['4.3[ML]'], dtype=object)"
      ]
     },
     "execution_count": 20,
     "metadata": {},
     "output_type": "execute_result"
    }
   ],
   "source": [
    "yn"
   ]
  },
  {
   "cell_type": "code",
   "execution_count": 21,
   "metadata": {
    "scrolled": true
   },
   "outputs": [
    {
     "data": {
      "text/plain": [
       "array(['4.3[ML]', '2.6[ML]', '4.4[ML]', ..., '4.5[ML]', '2.9[ML]',\n",
       "       '2.6[MW]'], dtype=object)"
      ]
     },
     "execution_count": 21,
     "metadata": {},
     "output_type": "execute_result"
    }
   ],
   "source": [
    "y"
   ]
  },
  {
   "cell_type": "code",
   "execution_count": 22,
   "metadata": {},
   "outputs": [],
   "source": [
    "import array"
   ]
  },
  {
   "cell_type": "code",
   "execution_count": 23,
   "metadata": {},
   "outputs": [],
   "source": [
    "arr=[]\n",
    "for col in y:\n",
    "    \n",
    "    \n",
    "    kl=y[0:1221]\n",
    "    xyz=col[0:3]\n",
    "    arr.append(xyz)\n",
    "    \n",
    "\n",
    "    \n",
    "    \n",
    "    \n",
    "    \n",
    "    \n",
    "    \n",
    "\n"
   ]
  },
  {
   "cell_type": "code",
   "execution_count": null,
   "metadata": {},
   "outputs": [],
   "source": []
  },
  {
   "cell_type": "code",
   "execution_count": null,
   "metadata": {},
   "outputs": [],
   "source": []
  },
  {
   "cell_type": "code",
   "execution_count": 24,
   "metadata": {},
   "outputs": [],
   "source": [
    "kkll=np.array(arr)"
   ]
  },
  {
   "cell_type": "code",
   "execution_count": 25,
   "metadata": {},
   "outputs": [
    {
     "data": {
      "text/plain": [
       "array([4.3, 2.6, 4.4, ..., 4.5, 2.9, 2.6])"
      ]
     },
     "execution_count": 25,
     "metadata": {},
     "output_type": "execute_result"
    }
   ],
   "source": [
    "kkll.astype(float)"
   ]
  },
  {
   "cell_type": "code",
   "execution_count": 26,
   "metadata": {},
   "outputs": [
    {
     "data": {
      "text/plain": [
       "dtype('<U3')"
      ]
     },
     "execution_count": 26,
     "metadata": {},
     "output_type": "execute_result"
    }
   ],
   "source": [
    "kkll.dtype"
   ]
  },
  {
   "cell_type": "code",
   "execution_count": null,
   "metadata": {},
   "outputs": [],
   "source": []
  },
  {
   "cell_type": "code",
   "execution_count": 27,
   "metadata": {},
   "outputs": [
    {
     "data": {
      "text/html": [
       "<div>\n",
       "<style scoped>\n",
       "    .dataframe tbody tr th:only-of-type {\n",
       "        vertical-align: middle;\n",
       "    }\n",
       "\n",
       "    .dataframe tbody tr th {\n",
       "        vertical-align: top;\n",
       "    }\n",
       "\n",
       "    .dataframe thead th {\n",
       "        text-align: right;\n",
       "    }\n",
       "</style>\n",
       "<table border=\"1\" class=\"dataframe\">\n",
       "  <thead>\n",
       "    <tr style=\"text-align: right;\">\n",
       "      <th></th>\n",
       "      <th>Unnamed: 1</th>\n",
       "      <th>Unnamed: 2</th>\n",
       "      <th>Unnamed: 3</th>\n",
       "    </tr>\n",
       "  </thead>\n",
       "  <tbody>\n",
       "    <tr>\n",
       "      <th>1</th>\n",
       "      <td>28.89</td>\n",
       "      <td>81.58</td>\n",
       "      <td>30.0</td>\n",
       "    </tr>\n",
       "    <tr>\n",
       "      <th>2</th>\n",
       "      <td>20.70</td>\n",
       "      <td>72.82</td>\n",
       "      <td>5.0</td>\n",
       "    </tr>\n",
       "    <tr>\n",
       "      <th>3</th>\n",
       "      <td>29.90</td>\n",
       "      <td>68.30</td>\n",
       "      <td>10.0</td>\n",
       "    </tr>\n",
       "    <tr>\n",
       "      <th>4</th>\n",
       "      <td>2.10</td>\n",
       "      <td>96.37</td>\n",
       "      <td>10.0</td>\n",
       "    </tr>\n",
       "    <tr>\n",
       "      <th>5</th>\n",
       "      <td>7.48</td>\n",
       "      <td>94.33</td>\n",
       "      <td>10.0</td>\n",
       "    </tr>\n",
       "    <tr>\n",
       "      <th>...</th>\n",
       "      <td>...</td>\n",
       "      <td>...</td>\n",
       "      <td>...</td>\n",
       "    </tr>\n",
       "    <tr>\n",
       "      <th>1217</th>\n",
       "      <td>38.90</td>\n",
       "      <td>76.21</td>\n",
       "      <td>10.0</td>\n",
       "    </tr>\n",
       "    <tr>\n",
       "      <th>1218</th>\n",
       "      <td>37.30</td>\n",
       "      <td>72.40</td>\n",
       "      <td>20.0</td>\n",
       "    </tr>\n",
       "    <tr>\n",
       "      <th>1219</th>\n",
       "      <td>33.16</td>\n",
       "      <td>76.30</td>\n",
       "      <td>5.0</td>\n",
       "    </tr>\n",
       "    <tr>\n",
       "      <th>1220</th>\n",
       "      <td>25.52</td>\n",
       "      <td>91.56</td>\n",
       "      <td>8.0</td>\n",
       "    </tr>\n",
       "    <tr>\n",
       "      <th>1221</th>\n",
       "      <td>26.33</td>\n",
       "      <td>92.50</td>\n",
       "      <td>19.0</td>\n",
       "    </tr>\n",
       "  </tbody>\n",
       "</table>\n",
       "<p>1221 rows × 3 columns</p>\n",
       "</div>"
      ],
      "text/plain": [
       "      Unnamed: 1  Unnamed: 2  Unnamed: 3\n",
       "1          28.89       81.58        30.0\n",
       "2          20.70       72.82         5.0\n",
       "3          29.90       68.30        10.0\n",
       "4           2.10       96.37        10.0\n",
       "5           7.48       94.33        10.0\n",
       "...          ...         ...         ...\n",
       "1217       38.90       76.21        10.0\n",
       "1218       37.30       72.40        20.0\n",
       "1219       33.16       76.30         5.0\n",
       "1220       25.52       91.56         8.0\n",
       "1221       26.33       92.50        19.0\n",
       "\n",
       "[1221 rows x 3 columns]"
      ]
     },
     "execution_count": 27,
     "metadata": {},
     "output_type": "execute_result"
    }
   ],
   "source": [
    "mno=path\n",
    "mno"
   ]
  },
  {
   "cell_type": "code",
   "execution_count": 28,
   "metadata": {},
   "outputs": [
    {
     "data": {
      "text/plain": [
       "array(['4.3', '2.6', '4.4', ..., '4.5', '2.9', '2.6'], dtype='<U3')"
      ]
     },
     "execution_count": 28,
     "metadata": {},
     "output_type": "execute_result"
    }
   ],
   "source": [
    "kkll"
   ]
  },
  {
   "cell_type": "code",
   "execution_count": null,
   "metadata": {},
   "outputs": [],
   "source": []
  },
  {
   "cell_type": "code",
   "execution_count": null,
   "metadata": {},
   "outputs": [],
   "source": []
  },
  {
   "cell_type": "code",
   "execution_count": null,
   "metadata": {},
   "outputs": [],
   "source": []
  },
  {
   "cell_type": "code",
   "execution_count": 29,
   "metadata": {},
   "outputs": [
    {
     "data": {
      "text/html": [
       "<div>\n",
       "<style scoped>\n",
       "    .dataframe tbody tr th:only-of-type {\n",
       "        vertical-align: middle;\n",
       "    }\n",
       "\n",
       "    .dataframe tbody tr th {\n",
       "        vertical-align: top;\n",
       "    }\n",
       "\n",
       "    .dataframe thead th {\n",
       "        text-align: right;\n",
       "    }\n",
       "</style>\n",
       "<table border=\"1\" class=\"dataframe\">\n",
       "  <thead>\n",
       "    <tr style=\"text-align: right;\">\n",
       "      <th></th>\n",
       "      <th>Unnamed: 1</th>\n",
       "      <th>Unnamed: 2</th>\n",
       "      <th>Unnamed: 3</th>\n",
       "    </tr>\n",
       "  </thead>\n",
       "  <tbody>\n",
       "    <tr>\n",
       "      <th>1</th>\n",
       "      <td>28.89</td>\n",
       "      <td>81.58</td>\n",
       "      <td>30.0</td>\n",
       "    </tr>\n",
       "    <tr>\n",
       "      <th>2</th>\n",
       "      <td>20.70</td>\n",
       "      <td>72.82</td>\n",
       "      <td>5.0</td>\n",
       "    </tr>\n",
       "    <tr>\n",
       "      <th>3</th>\n",
       "      <td>29.90</td>\n",
       "      <td>68.30</td>\n",
       "      <td>10.0</td>\n",
       "    </tr>\n",
       "    <tr>\n",
       "      <th>4</th>\n",
       "      <td>2.10</td>\n",
       "      <td>96.37</td>\n",
       "      <td>10.0</td>\n",
       "    </tr>\n",
       "    <tr>\n",
       "      <th>5</th>\n",
       "      <td>7.48</td>\n",
       "      <td>94.33</td>\n",
       "      <td>10.0</td>\n",
       "    </tr>\n",
       "    <tr>\n",
       "      <th>...</th>\n",
       "      <td>...</td>\n",
       "      <td>...</td>\n",
       "      <td>...</td>\n",
       "    </tr>\n",
       "    <tr>\n",
       "      <th>1217</th>\n",
       "      <td>38.90</td>\n",
       "      <td>76.21</td>\n",
       "      <td>10.0</td>\n",
       "    </tr>\n",
       "    <tr>\n",
       "      <th>1218</th>\n",
       "      <td>37.30</td>\n",
       "      <td>72.40</td>\n",
       "      <td>20.0</td>\n",
       "    </tr>\n",
       "    <tr>\n",
       "      <th>1219</th>\n",
       "      <td>33.16</td>\n",
       "      <td>76.30</td>\n",
       "      <td>5.0</td>\n",
       "    </tr>\n",
       "    <tr>\n",
       "      <th>1220</th>\n",
       "      <td>25.52</td>\n",
       "      <td>91.56</td>\n",
       "      <td>8.0</td>\n",
       "    </tr>\n",
       "    <tr>\n",
       "      <th>1221</th>\n",
       "      <td>26.33</td>\n",
       "      <td>92.50</td>\n",
       "      <td>19.0</td>\n",
       "    </tr>\n",
       "  </tbody>\n",
       "</table>\n",
       "<p>1221 rows × 3 columns</p>\n",
       "</div>"
      ],
      "text/plain": [
       "      Unnamed: 1  Unnamed: 2  Unnamed: 3\n",
       "1          28.89       81.58        30.0\n",
       "2          20.70       72.82         5.0\n",
       "3          29.90       68.30        10.0\n",
       "4           2.10       96.37        10.0\n",
       "5           7.48       94.33        10.0\n",
       "...          ...         ...         ...\n",
       "1217       38.90       76.21        10.0\n",
       "1218       37.30       72.40        20.0\n",
       "1219       33.16       76.30         5.0\n",
       "1220       25.52       91.56         8.0\n",
       "1221       26.33       92.50        19.0\n",
       "\n",
       "[1221 rows x 3 columns]"
      ]
     },
     "execution_count": 29,
     "metadata": {},
     "output_type": "execute_result"
    }
   ],
   "source": [
    "xl=mno\n",
    "xl"
   ]
  },
  {
   "cell_type": "code",
   "execution_count": 30,
   "metadata": {},
   "outputs": [],
   "source": [
    "yl=kkll"
   ]
  },
  {
   "cell_type": "code",
   "execution_count": 31,
   "metadata": {},
   "outputs": [
    {
     "data": {
      "text/plain": [
       "array([[2.70538485, 7.64878734, 0.42093057],\n",
       "       [1.93843774, 6.82746622, 0.07015509],\n",
       "       [2.79996562, 6.40367952, 0.14031019],\n",
       "       ...,\n",
       "       [3.10524616, 7.15374447, 0.07015509],\n",
       "       [2.38980344, 8.58449337, 0.11224815],\n",
       "       [2.46565535, 8.672626  , 0.26658936]])"
      ]
     },
     "execution_count": 31,
     "metadata": {},
     "output_type": "execute_result"
    }
   ],
   "source": [
    "from sklearn.preprocessing import StandardScaler\n",
    "sc=StandardScaler(with_mean=False)\n",
    "xll=sc.fit_transform(xl)\n",
    "xll"
   ]
  },
  {
   "cell_type": "code",
   "execution_count": 32,
   "metadata": {},
   "outputs": [
    {
     "data": {
      "text/plain": [
       "['earthquakee']"
      ]
     },
     "execution_count": 32,
     "metadata": {},
     "output_type": "execute_result"
    }
   ],
   "source": [
    "import joblib\n",
    "joblib.dump(sc,'earthquakee')"
   ]
  },
  {
   "cell_type": "code",
   "execution_count": 33,
   "metadata": {},
   "outputs": [],
   "source": [
    "from sklearn.model_selection import train_test_split\n",
    "x_train,x_test,y_train,y_test=train_test_split(xl,yl,test_size=0.3,random_state=0)"
   ]
  },
  {
   "cell_type": "code",
   "execution_count": 34,
   "metadata": {},
   "outputs": [],
   "source": [
    "from sklearn.ensemble import RandomForestRegressor"
   ]
  },
  {
   "cell_type": "code",
   "execution_count": 35,
   "metadata": {},
   "outputs": [
    {
     "data": {
      "text/plain": [
       "RandomForestRegressor(n_estimators=1000, random_state=0)"
      ]
     },
     "execution_count": 35,
     "metadata": {},
     "output_type": "execute_result"
    }
   ],
   "source": [
    "mr= RandomForestRegressor(n_estimators=1000,criterion=\"mse\",random_state=0)\n",
    "mr.fit(x_train,y_train)"
   ]
  },
  {
   "cell_type": "code",
   "execution_count": 36,
   "metadata": {},
   "outputs": [
    {
     "data": {
      "text/plain": [
       "['earthquakee.save']"
      ]
     },
     "execution_count": 36,
     "metadata": {},
     "output_type": "execute_result"
    }
   ],
   "source": [
    "joblib.dump(mr,'earthquakee.save')"
   ]
  },
  {
   "cell_type": "code",
   "execution_count": 37,
   "metadata": {},
   "outputs": [
    {
     "data": {
      "text/html": [
       "<div>\n",
       "<style scoped>\n",
       "    .dataframe tbody tr th:only-of-type {\n",
       "        vertical-align: middle;\n",
       "    }\n",
       "\n",
       "    .dataframe tbody tr th {\n",
       "        vertical-align: top;\n",
       "    }\n",
       "\n",
       "    .dataframe thead th {\n",
       "        text-align: right;\n",
       "    }\n",
       "</style>\n",
       "<table border=\"1\" class=\"dataframe\">\n",
       "  <thead>\n",
       "    <tr style=\"text-align: right;\">\n",
       "      <th></th>\n",
       "      <th>Unnamed: 1</th>\n",
       "      <th>Unnamed: 2</th>\n",
       "      <th>Unnamed: 3</th>\n",
       "    </tr>\n",
       "  </thead>\n",
       "  <tbody>\n",
       "    <tr>\n",
       "      <th>1147</th>\n",
       "      <td>32.91</td>\n",
       "      <td>75.94</td>\n",
       "      <td>11.0</td>\n",
       "    </tr>\n",
       "    <tr>\n",
       "      <th>993</th>\n",
       "      <td>29.93</td>\n",
       "      <td>69.11</td>\n",
       "      <td>10.0</td>\n",
       "    </tr>\n",
       "    <tr>\n",
       "      <th>479</th>\n",
       "      <td>35.61</td>\n",
       "      <td>74.70</td>\n",
       "      <td>10.0</td>\n",
       "    </tr>\n",
       "    <tr>\n",
       "      <th>162</th>\n",
       "      <td>33.17</td>\n",
       "      <td>73.73</td>\n",
       "      <td>10.0</td>\n",
       "    </tr>\n",
       "    <tr>\n",
       "      <th>1156</th>\n",
       "      <td>28.82</td>\n",
       "      <td>76.74</td>\n",
       "      <td>7.0</td>\n",
       "    </tr>\n",
       "    <tr>\n",
       "      <th>...</th>\n",
       "      <td>...</td>\n",
       "      <td>...</td>\n",
       "      <td>...</td>\n",
       "    </tr>\n",
       "    <tr>\n",
       "      <th>529</th>\n",
       "      <td>26.99</td>\n",
       "      <td>92.71</td>\n",
       "      <td>24.0</td>\n",
       "    </tr>\n",
       "    <tr>\n",
       "      <th>826</th>\n",
       "      <td>32.93</td>\n",
       "      <td>76.39</td>\n",
       "      <td>7.0</td>\n",
       "    </tr>\n",
       "    <tr>\n",
       "      <th>484</th>\n",
       "      <td>35.61</td>\n",
       "      <td>74.65</td>\n",
       "      <td>16.0</td>\n",
       "    </tr>\n",
       "    <tr>\n",
       "      <th>1213</th>\n",
       "      <td>37.12</td>\n",
       "      <td>71.13</td>\n",
       "      <td>97.0</td>\n",
       "    </tr>\n",
       "    <tr>\n",
       "      <th>580</th>\n",
       "      <td>36.85</td>\n",
       "      <td>91.59</td>\n",
       "      <td>10.0</td>\n",
       "    </tr>\n",
       "  </tbody>\n",
       "</table>\n",
       "<p>367 rows × 3 columns</p>\n",
       "</div>"
      ],
      "text/plain": [
       "      Unnamed: 1  Unnamed: 2  Unnamed: 3\n",
       "1147       32.91       75.94        11.0\n",
       "993        29.93       69.11        10.0\n",
       "479        35.61       74.70        10.0\n",
       "162        33.17       73.73        10.0\n",
       "1156       28.82       76.74         7.0\n",
       "...          ...         ...         ...\n",
       "529        26.99       92.71        24.0\n",
       "826        32.93       76.39         7.0\n",
       "484        35.61       74.65        16.0\n",
       "1213       37.12       71.13        97.0\n",
       "580        36.85       91.59        10.0\n",
       "\n",
       "[367 rows x 3 columns]"
      ]
     },
     "execution_count": 37,
     "metadata": {},
     "output_type": "execute_result"
    }
   ],
   "source": [
    "x_test"
   ]
  },
  {
   "cell_type": "code",
   "execution_count": 38,
   "metadata": {},
   "outputs": [
    {
     "data": {
      "text/plain": [
       "array(['4.3', '2.6', '4.4', ..., '4.5', '2.9', '2.6'], dtype='<U3')"
      ]
     },
     "execution_count": 38,
     "metadata": {},
     "output_type": "execute_result"
    }
   ],
   "source": [
    "yl"
   ]
  },
  {
   "cell_type": "code",
   "execution_count": 39,
   "metadata": {},
   "outputs": [
    {
     "data": {
      "text/plain": [
       "array([3.4486, 3.8417, 4.0131, 3.8165, 2.5182, 3.9225, 4.5386, 4.0272,\n",
       "       3.6221, 4.0137, 4.064 , 3.9203, 3.8707, 2.9876, 4.4578, 3.4795,\n",
       "       3.1557, 4.1871, 4.4541, 4.3815, 3.836 , 3.963 , 4.5218, 3.2126,\n",
       "       4.3323, 4.041 , 3.4822, 4.1635, 2.6278, 3.4492, 3.244 , 3.4642,\n",
       "       4.2966, 3.9558, 3.7539, 4.4002, 3.6796, 3.6018, 4.0661, 4.004 ,\n",
       "       4.1062, 3.2934, 4.4835, 4.1433, 4.0817, 3.3266, 4.5177, 4.5131,\n",
       "       4.1696, 3.2368, 3.1428, 2.907 , 4.6827, 3.4174, 3.7219, 3.0414,\n",
       "       4.6123, 3.6213, 3.2858, 2.553 , 4.0035, 4.4364, 2.9258, 4.3953,\n",
       "       4.2821, 3.4026, 4.558 , 3.1719, 4.1587, 4.3255, 4.5412, 4.0814,\n",
       "       4.0615, 4.0975, 3.4931, 3.3588, 3.3987, 3.4193, 4.1944, 3.3104,\n",
       "       4.4643, 3.523 , 4.0122, 4.4922, 4.425 , 3.8217, 3.9121, 4.0249,\n",
       "       3.0833, 3.9581, 3.1802, 4.0272, 4.1156, 2.7862, 4.4058, 4.0569,\n",
       "       2.806 , 3.3186, 4.6515, 3.9959, 3.3864, 4.6763, 4.4142, 3.8512,\n",
       "       3.2918, 4.1885, 3.3131, 4.3389, 4.0576, 4.1132, 3.728 , 3.0956,\n",
       "       4.3928, 4.0827, 4.517 , 3.309 , 3.6076, 3.9406, 3.9716, 3.4804,\n",
       "       3.9196, 4.6607, 3.7822, 4.0875, 4.0328, 3.3686, 4.7366, 4.0709,\n",
       "       3.9265, 4.3697, 4.211 , 3.2014, 3.8393, 3.935 , 4.489 , 4.3882,\n",
       "       2.7748, 4.1084, 4.1396, 3.6039, 4.1724, 4.3824, 4.4114, 2.9517,\n",
       "       2.6002, 2.2734, 3.7054, 4.1188, 4.4974, 3.302 , 4.2302, 3.6536,\n",
       "       4.6637, 4.6119, 3.9509, 2.8781, 2.7019, 4.5947, 2.7635, 4.8361,\n",
       "       3.3844, 3.0511, 4.1341, 3.9772, 4.1765, 3.9644, 3.9986, 4.3196,\n",
       "       4.2563, 4.1256, 4.5069, 4.5961, 4.5089, 5.0879, 4.2416, 4.0202,\n",
       "       4.5511, 4.5276, 5.0414, 4.2655, 4.3098, 3.9317, 4.6324, 3.5045,\n",
       "       3.668 , 3.7091, 4.2789, 3.9722, 2.945 , 3.3661, 4.3854, 3.9804,\n",
       "       4.1972, 4.2161, 4.1168, 4.2828, 4.1236, 3.6177, 2.5199, 4.4361,\n",
       "       4.1249, 3.2488, 3.9208, 4.6292, 3.716 , 3.1879, 4.0818, 3.6952,\n",
       "       3.9818, 4.0466, 3.5053, 2.9212, 4.2853, 4.6621, 4.4931, 4.2491,\n",
       "       2.9464, 4.1673, 3.0908, 4.0735, 3.3107, 4.3798, 3.3752, 4.0772,\n",
       "       4.1712, 4.0248, 4.0484, 3.6543, 4.0651, 2.8552, 4.0055, 4.1756,\n",
       "       4.3824, 4.6093, 4.1894, 2.8411, 3.0794, 3.9852, 4.3811, 4.0192,\n",
       "       3.364 , 4.5648, 3.0075, 4.2592, 4.1831, 4.0477, 3.5487, 4.3547,\n",
       "       3.1763, 3.2057, 3.4703, 4.1192, 3.3214, 3.8598, 4.1061, 4.4725,\n",
       "       3.7769, 4.4108, 4.4689, 3.8245, 3.1715, 3.0201, 4.362 , 3.9232,\n",
       "       4.1802, 3.2134, 4.0423, 3.2812, 3.6353, 4.5074, 3.5482, 4.4131,\n",
       "       3.8553, 4.037 , 3.2283, 4.3205, 3.0314, 4.1337, 4.4282, 4.5444,\n",
       "       3.9802, 3.9177, 4.5713, 3.2266, 4.3382, 3.1725, 3.1387, 3.2896,\n",
       "       2.7839, 4.0606, 2.7915, 3.3779, 3.0504, 4.1714, 4.6075, 3.2892,\n",
       "       4.2295, 4.3053, 4.466 , 4.5092, 3.7806, 3.0871, 3.4853, 4.4839,\n",
       "       4.1128, 3.4589, 4.203 , 3.1694, 4.4608, 3.2749, 3.6899, 4.1208,\n",
       "       3.9983, 4.3034, 3.9372, 4.0843, 4.1365, 4.5665, 3.8534, 4.7152,\n",
       "       3.1958, 4.5979, 4.4817, 3.5818, 3.6185, 4.1671, 4.2111, 4.0084,\n",
       "       2.9429, 3.8891, 4.0188, 4.1875, 4.1334, 4.1226, 4.1445, 3.7778,\n",
       "       4.6104, 4.0965, 3.9827, 3.088 , 2.5866, 3.7964, 4.3716, 4.0587,\n",
       "       3.9272, 3.5425, 3.3334, 2.8834, 4.4329, 3.9798, 4.7329, 3.1558,\n",
       "       3.9701, 4.6305, 3.3616, 4.1014, 3.0733, 4.0751, 3.962 , 3.451 ,\n",
       "       4.2033, 3.5614, 3.3689, 3.5771, 4.0711, 4.1306, 4.2366])"
      ]
     },
     "execution_count": 39,
     "metadata": {},
     "output_type": "execute_result"
    }
   ],
   "source": [
    "y_pred = mr.predict(x_test)\n",
    "y_pred"
   ]
  },
  {
   "cell_type": "code",
   "execution_count": 40,
   "metadata": {},
   "outputs": [
    {
     "data": {
      "text/plain": [
       "array([3.4486])"
      ]
     },
     "execution_count": 40,
     "metadata": {},
     "output_type": "execute_result"
    }
   ],
   "source": [
    "a=mr.predict([[32.91,75.94,11.0]])\n",
    "a"
   ]
  },
  {
   "cell_type": "code",
   "execution_count": 41,
   "metadata": {},
   "outputs": [
    {
     "data": {
      "text/plain": [
       "array([3.8417])"
      ]
     },
     "execution_count": 41,
     "metadata": {},
     "output_type": "execute_result"
    }
   ],
   "source": [
    "a=mr.predict([[29.93,69.11,10.0]])\n",
    "a"
   ]
  },
  {
   "cell_type": "code",
   "execution_count": 42,
   "metadata": {},
   "outputs": [
    {
     "data": {
      "text/plain": [
       "array([4.2366])"
      ]
     },
     "execution_count": 42,
     "metadata": {},
     "output_type": "execute_result"
    }
   ],
   "source": [
    "a=mr.predict([[36.85,91.59,10.0]])\n",
    "a"
   ]
  },
  {
   "cell_type": "code",
   "execution_count": 43,
   "metadata": {},
   "outputs": [
    {
     "data": {
      "text/plain": [
       "array([3.4486])"
      ]
     },
     "execution_count": 43,
     "metadata": {},
     "output_type": "execute_result"
    }
   ],
   "source": [
    "a=mr.predict([[32.91,75.94,11.0]])\n",
    "a"
   ]
  },
  {
   "cell_type": "code",
   "execution_count": 44,
   "metadata": {},
   "outputs": [
    {
     "data": {
      "text/plain": [
       "array([3.7823])"
      ]
     },
     "execution_count": 44,
     "metadata": {},
     "output_type": "execute_result"
    }
   ],
   "source": [
    "a=mr.predict([[14.4644,75.9218,9.0]])\n",
    "a"
   ]
  },
  {
   "cell_type": "code",
   "execution_count": 45,
   "metadata": {},
   "outputs": [
    {
     "data": {
      "text/plain": [
       "array([4.4813])"
      ]
     },
     "execution_count": 45,
     "metadata": {},
     "output_type": "execute_result"
    }
   ],
   "source": [
    "a=mr.predict([[3.2028,73.2207,35.0]])\n",
    "a"
   ]
  },
  {
   "cell_type": "code",
   "execution_count": null,
   "metadata": {},
   "outputs": [],
   "source": []
  },
  {
   "cell_type": "code",
   "execution_count": null,
   "metadata": {},
   "outputs": [],
   "source": []
  },
  {
   "cell_type": "code",
   "execution_count": null,
   "metadata": {},
   "outputs": [],
   "source": []
  },
  {
   "cell_type": "code",
   "execution_count": null,
   "metadata": {},
   "outputs": [],
   "source": []
  }
 ],
 "metadata": {
  "kernelspec": {
   "display_name": "Python 3",
   "language": "python",
   "name": "python3"
  },
  "language_info": {
   "codemirror_mode": {
    "name": "ipython",
    "version": 3
   },
   "file_extension": ".py",
   "mimetype": "text/x-python",
   "name": "python",
   "nbconvert_exporter": "python",
   "pygments_lexer": "ipython3",
   "version": "3.8.3"
  }
 },
 "nbformat": 4,
 "nbformat_minor": 4
}
